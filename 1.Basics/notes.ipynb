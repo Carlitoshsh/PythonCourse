{
 "metadata": {
  "language_info": {
   "codemirror_mode": {
    "name": "ipython",
    "version": 3
   },
   "file_extension": ".py",
   "mimetype": "text/x-python",
   "name": "python",
   "nbconvert_exporter": "python",
   "pygments_lexer": "ipython3",
   "version": "3.6.9-final"
  },
  "orig_nbformat": 2,
  "kernelspec": {
   "name": "Python 3.6.9 64-bit",
   "display_name": "Python 3.6.9 64-bit",
   "metadata": {
    "interpreter": {
     "hash": "31f2aee4e71d21fbe5cf8b01ff0e069b9275f58929596ceb00d14d90e3e16cd6"
    }
   }
  }
 },
 "nbformat": 4,
 "nbformat_minor": 2,
 "cells": [
  {
   "source": [
    "*Welcome to Platzi*"
   ],
   "cell_type": "markdown",
   "metadata": {}
  },
  {
   "cell_type": "code",
   "execution_count": 6,
   "metadata": {},
   "outputs": [
    {
     "output_type": "stream",
     "name": "stdout",
     "text": [
      "First is equal than second\n"
     ]
    }
   ],
   "source": [
    "num_1 = int(input(\"First: \"))\n",
    "num_2 = int(input(\"Second: \"))\n",
    "\n",
    "if(num_1 > num_2):\n",
    "    print('First is bigger than second')\n",
    "elif(num_1 < num_2):\n",
    "    print('Second is bigger than first')\n",
    "else :\n",
    "    print('First is equal than second')"
   ]
  },
  {
   "cell_type": "code",
   "execution_count": 14,
   "metadata": {},
   "outputs": [
    {
     "output_type": "stream",
     "name": "stdout",
     "text": [
      "COL - 23\nMX - 12\nEC - 23\n"
     ]
    }
   ],
   "source": [
    "estudiantes = {\n",
    "    'COL': 23,\n",
    "    'MX': 12,\n",
    "    'EC': 23,\n",
    "}\n",
    "\n",
    "# Items gets key and value\n",
    "for pais, est in estudiantes.items():\n",
    "    print(f'{pais} - {est}')"
   ]
  },
  {
   "cell_type": "code",
   "execution_count": 16,
   "metadata": {},
   "outputs": [
    {
     "output_type": "stream",
     "name": "stdout",
     "text": [
      "x = 0.9999999999999999\n"
     ]
    }
   ],
   "source": [
    "x = 0.0\n",
    "for i in range(10):\n",
    "    x += 0.1\n",
    "\n",
    "if x < 1.0:\n",
    "    print(f'x = {x}')\n",
    "else:\n",
    "    print(f'x != {x}')"
   ]
  },
  {
   "source": [
    "Exhaustive search"
   ],
   "cell_type": "code",
   "metadata": {},
   "execution_count": null,
   "outputs": []
  },
  {
   "cell_type": "code",
   "execution_count": 20,
   "metadata": {},
   "outputs": [
    {
     "output_type": "stream",
     "name": "stdout",
     "text": [
      "Sqrt of 4 is 1.999749999925672\n"
     ]
    }
   ],
   "source": [
    "obj = int(input('Write a number: '))\n",
    "ans = 0\n",
    "epsilon = 0.001\n",
    "paso = epsilon**2\n",
    "\n",
    "\n",
    "while abs(ans**2 - obj) >= epsilon and ans <= obj:\n",
    "    ans += paso\n",
    "\n",
    "if  abs(ans**2 - obj) >= epsilon:\n",
    "    print(f'{obj} not found')\n",
    "else:\n",
    "    print(f'Sqrt of {obj} is {ans}')"
   ]
  },
  {
   "source": [
    "Binary Search"
   ],
   "cell_type": "markdown",
   "metadata": {}
  },
  {
   "cell_type": "code",
   "execution_count": 21,
   "metadata": {},
   "outputs": [
    {
     "output_type": "stream",
     "name": "stdout",
     "text": [
      "Answer: 2.0\n"
     ]
    }
   ],
   "source": [
    "obj = int(input('Write a number: '))\n",
    "epsilon = 0.001\n",
    "bajo = 0.0\n",
    "alto = max(1.0, obj)\n",
    "ans = (alto + bajo) / 2\n",
    "\n",
    "while abs(ans**2 - obj) >= epsilon:\n",
    "    if  ans**2 < obj:\n",
    "        bajo = ans\n",
    "    else:\n",
    "        alto = ans\n",
    "    ans = (alto + bajo) / 2\n",
    "\n",
    "print(f'Answer: {ans}')"
   ]
  },
  {
   "cell_type": "code",
   "execution_count": null,
   "metadata": {},
   "outputs": [],
   "source": []
  }
 ]
}